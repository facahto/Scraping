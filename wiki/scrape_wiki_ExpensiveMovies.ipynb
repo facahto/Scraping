{
  "nbformat": 4,
  "nbformat_minor": 0,
  "metadata": {
    "colab": {
      "provenance": [],
      "authorship_tag": "ABX9TyNFyvG2V9JRC98/I6wJAbGU",
      "include_colab_link": true
    },
    "kernelspec": {
      "name": "python3",
      "display_name": "Python 3"
    },
    "language_info": {
      "name": "python"
    }
  },
  "cells": [
    {
      "cell_type": "markdown",
      "metadata": {
        "id": "view-in-github",
        "colab_type": "text"
      },
      "source": [
        "<a href=\"https://colab.research.google.com/github/facahto/Scraping/blob/main/wiki/scrape_wiki_ExpensiveMovies.ipynb\" target=\"_parent\"><img src=\"https://colab.research.google.com/assets/colab-badge.svg\" alt=\"Open In Colab\"/></a>"
      ]
    },
    {
      "cell_type": "code",
      "execution_count": 1,
      "metadata": {
        "id": "HuwMMohdU3aX"
      },
      "outputs": [],
      "source": [
        "import requests\n",
        "from bs4 import BeautifulSoup\n",
        "import pandas as pd"
      ]
    },
    {
      "cell_type": "code",
      "source": [
        "url = 'https://en.wikipedia.org/wiki/List_of_most_expensive_films'\n",
        "req = requests.get(url)\n",
        "#req = req.content"
      ],
      "metadata": {
        "id": "R4JLAzNahF-5"
      },
      "execution_count": 2,
      "outputs": []
    },
    {
      "cell_type": "code",
      "source": [
        "soup  = BeautifulSoup(req.text,'html.parser') #html script\n",
        "table = soup.find('table', {'class':\"wikitable sortable plainrowheaders\"}).tbody\n",
        "rows  = table.find_all('tr')"
      ],
      "metadata": {
        "id": "act3ScpAhPUa"
      },
      "execution_count": 3,
      "outputs": []
    },
    {
      "cell_type": "code",
      "source": [
        "columns = [rows[0].find_all('th')]\n",
        "print(columns)"
      ],
      "metadata": {
        "colab": {
          "base_uri": "https://localhost:8080/"
        },
        "id": "Zfuf7xhG3UT4",
        "outputId": "6712f0f0-d0fe-47e7-b381-00706ce5212f"
      },
      "execution_count": 4,
      "outputs": [
        {
          "output_type": "stream",
          "name": "stdout",
          "text": [
            "[[<th scope=\"col\">Rank\n",
            "</th>, <th scope=\"col\" style=\"width:30em;\">Title\n",
            "</th>, <th scope=\"col\" style=\"width:5em;\">Year\n",
            "</th>, <th scope=\"col\" style=\"width:5em;\">Cost (est.)<br/><span style=\"font-size:85%;\">(millions)</span>\n",
            "</th>, <th class=\"unsortable\" scope=\"col\" style=\"width:8em;\">Refs and notes\n",
            "</th>]]\n"
          ]
        }
      ]
    },
    {
      "cell_type": "code",
      "source": [],
      "metadata": {
        "id": "PNgG04VkTiLY"
      },
      "execution_count": 4,
      "outputs": []
    }
  ]
}